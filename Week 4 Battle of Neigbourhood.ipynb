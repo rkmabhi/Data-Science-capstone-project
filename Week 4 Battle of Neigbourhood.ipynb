{
 "cells": [
  {
   "cell_type": "markdown",
   "metadata": {},
   "source": [
    "## Introduction"
   ]
  },
  {
   "cell_type": "markdown",
   "metadata": {},
   "source": [
    "The land of Mumbai is full of opportunities. Located on Maharashtra's coast, Mumbai is India's most-populous city, and its one of the most densely populated urban areas in the world. There is something for everyone here. Mumbai is already full of venues. There are innumerable food joints, restaurants. But if someone wants to open a restaurant, 'where' and 'of what kind' are the obvious questions. And that is what we are here to deal with.\n",
    "\n"
   ]
  },
  {
   "cell_type": "markdown",
   "metadata": {},
   "source": [
    "## Business Problem"
   ]
  },
  {
   "cell_type": "markdown",
   "metadata": {},
   "source": [
    "We are here to answer the following:\n",
    "\n",
    "1. List and visualise the major neighbourhood in Mumbai.\n",
    "2. What restaurants are there in each of the neighbourhood?\n",
    "3. Which areas lack what kind of restaurants?\n",
    "4. What is the best location for a particular kind of restaurant?\n",
    "5. What kind of restaurants would survive in a particular location?"
   ]
  },
  {
   "cell_type": "markdown",
   "metadata": {},
   "source": [
    "## Target Audience"
   ]
  },
  {
   "cell_type": "markdown",
   "metadata": {},
   "source": [
    "The target audience is not a big domain. It only suits those who want to invest in opening a restaurant in Mumbai but need assistance regarding the 'where' and 'of what kind' questions.\n",
    "\n",
    "It will help the investors, or business persons in making an informed decision regarding the prospect of opening a restaurant in the city of Mumbai."
   ]
  },
  {
   "cell_type": "markdown",
   "metadata": {},
   "source": [
    "## Data Description"
   ]
  },
  {
   "cell_type": "markdown",
   "metadata": {},
   "source": [
    " For this project, we need the following data:\n",
    "- Mumbai areas\n",
    "Source - https://en.wikipedia.org/wiki/List_of_neighbourhoods_in_Mumbai\n",
    "Description - Location, longitude and the latitude of areas in Mumbai.\n",
    "\n",
    "- Different restaurants in the neighbourhood of Mumbai city.\n",
    "Source - Foursquare API\n",
    "Decsription - By using API, we get the name of the restaurant and the categories.\n",
    "\n",
    "Using this data will allow exploration and examination to solve the business problem. We will use data science skills such as data scraping, working with API, data cleaning, data wrangling and map visualisation(Folium) and machine learning(k-means clustering)."
   ]
  },
  {
   "cell_type": "code",
   "execution_count": null,
   "metadata": {},
   "outputs": [],
   "source": []
  }
 ],
 "metadata": {
  "kernelspec": {
   "display_name": "Python 3",
   "language": "python",
   "name": "python3"
  },
  "language_info": {
   "codemirror_mode": {
    "name": "ipython",
    "version": 3
   },
   "file_extension": ".py",
   "mimetype": "text/x-python",
   "name": "python",
   "nbconvert_exporter": "python",
   "pygments_lexer": "ipython3",
   "version": "3.8.5"
  }
 },
 "nbformat": 4,
 "nbformat_minor": 4
}
